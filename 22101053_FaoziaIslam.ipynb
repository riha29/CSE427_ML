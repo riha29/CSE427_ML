{
  "nbformat": 4,
  "nbformat_minor": 0,
  "metadata": {
    "colab": {
      "provenance": []
    },
    "kernelspec": {
      "name": "python3",
      "display_name": "Python 3"
    },
    "language_info": {
      "name": "python"
    }
  },
  "cells": [
    {
      "cell_type": "code",
      "execution_count": null,
      "metadata": {
        "id": "j7DP6imJ8C2C"
      },
      "outputs": [],
      "source": [
        "import torch\n",
        "import torchvision\n",
        "import torch.nn as nn\n",
        "import torchvision.transforms as transforms\n",
        "import matplotlib.pyplot as plt"
      ]
    },
    {
      "cell_type": "code",
      "source": [
        "train_dataset = torchvision.datasets.FashionMNIST(root = '', train = True, transform = transforms.ToTensor(), download = True)"
      ],
      "metadata": {
        "id": "M9wwV7a586ST",
        "colab": {
          "base_uri": "https://localhost:8080/"
        },
        "outputId": "cd91deda-7d3a-4a57-b15b-faa6e282ab79"
      },
      "execution_count": null,
      "outputs": [
        {
          "output_type": "stream",
          "name": "stdout",
          "text": [
            "Downloading http://fashion-mnist.s3-website.eu-central-1.amazonaws.com/train-images-idx3-ubyte.gz\n",
            "Downloading http://fashion-mnist.s3-website.eu-central-1.amazonaws.com/train-images-idx3-ubyte.gz to FashionMNIST/raw/train-images-idx3-ubyte.gz\n"
          ]
        },
        {
          "output_type": "stream",
          "name": "stderr",
          "text": [
            "100%|██████████| 26421880/26421880 [00:02<00:00, 10861638.66it/s]\n"
          ]
        },
        {
          "output_type": "stream",
          "name": "stdout",
          "text": [
            "Extracting FashionMNIST/raw/train-images-idx3-ubyte.gz to FashionMNIST/raw\n",
            "\n",
            "Downloading http://fashion-mnist.s3-website.eu-central-1.amazonaws.com/train-labels-idx1-ubyte.gz\n",
            "Downloading http://fashion-mnist.s3-website.eu-central-1.amazonaws.com/train-labels-idx1-ubyte.gz to FashionMNIST/raw/train-labels-idx1-ubyte.gz\n"
          ]
        },
        {
          "output_type": "stream",
          "name": "stderr",
          "text": [
            "100%|██████████| 29515/29515 [00:00<00:00, 209831.08it/s]\n"
          ]
        },
        {
          "output_type": "stream",
          "name": "stdout",
          "text": [
            "Extracting FashionMNIST/raw/train-labels-idx1-ubyte.gz to FashionMNIST/raw\n",
            "\n",
            "Downloading http://fashion-mnist.s3-website.eu-central-1.amazonaws.com/t10k-images-idx3-ubyte.gz\n",
            "Downloading http://fashion-mnist.s3-website.eu-central-1.amazonaws.com/t10k-images-idx3-ubyte.gz to FashionMNIST/raw/t10k-images-idx3-ubyte.gz\n"
          ]
        },
        {
          "output_type": "stream",
          "name": "stderr",
          "text": [
            "100%|██████████| 4422102/4422102 [00:01<00:00, 3933809.45it/s]\n"
          ]
        },
        {
          "output_type": "stream",
          "name": "stdout",
          "text": [
            "Extracting FashionMNIST/raw/t10k-images-idx3-ubyte.gz to FashionMNIST/raw\n",
            "\n",
            "Downloading http://fashion-mnist.s3-website.eu-central-1.amazonaws.com/t10k-labels-idx1-ubyte.gz\n",
            "Downloading http://fashion-mnist.s3-website.eu-central-1.amazonaws.com/t10k-labels-idx1-ubyte.gz to FashionMNIST/raw/t10k-labels-idx1-ubyte.gz\n"
          ]
        },
        {
          "output_type": "stream",
          "name": "stderr",
          "text": [
            "100%|██████████| 5148/5148 [00:00<00:00, 6490014.12it/s]"
          ]
        },
        {
          "output_type": "stream",
          "name": "stdout",
          "text": [
            "Extracting FashionMNIST/raw/t10k-labels-idx1-ubyte.gz to FashionMNIST/raw\n",
            "\n"
          ]
        },
        {
          "output_type": "stream",
          "name": "stderr",
          "text": [
            "\n"
          ]
        }
      ]
    },
    {
      "cell_type": "code",
      "source": [
        "test_dataset = torchvision.datasets.FashionMNIST(root = '', train = False, transform = transforms.ToTensor(), download = True)"
      ],
      "metadata": {
        "id": "FVroUcV--HSK"
      },
      "execution_count": null,
      "outputs": []
    },
    {
      "cell_type": "code",
      "source": [
        "train_loader = torch.utils.data.DataLoader(dataset = train_dataset, batch_size = 100, shuffle = True)\n",
        "test_loader = torch.utils.data.DataLoader(dataset = test_dataset, batch_size = 100, shuffle = False)\n",
        "\n",
        "examples = iter(train_loader)\n",
        "samples, labels = next(examples)\n",
        "print(samples.shape)\n",
        "print(labels.shape)"
      ],
      "metadata": {
        "colab": {
          "base_uri": "https://localhost:8080/"
        },
        "id": "O2-tpJ6J_SUl",
        "outputId": "7294f921-7c38-4ec6-de4d-5f0282171dc2"
      },
      "execution_count": null,
      "outputs": [
        {
          "output_type": "stream",
          "name": "stdout",
          "text": [
            "torch.Size([100, 1, 28, 28])\n",
            "torch.Size([100])\n"
          ]
        }
      ]
    },
    {
      "cell_type": "code",
      "source": [
        "for i in range(8):\n",
        "  plt.subplot(2, 4, i+1)\n",
        "  plt.imshow(samples[i][0], cmap = 'viridis')\n",
        "\n",
        "plt.show()"
      ],
      "metadata": {
        "colab": {
          "base_uri": "https://localhost:8080/",
          "height": 373
        },
        "id": "-xEckv5sACwk",
        "outputId": "32f962cd-1210-4b59-858e-8cb6715da45f"
      },
      "execution_count": null,
      "outputs": [
        {
          "output_type": "display_data",
          "data": {
            "text/plain": [
              "<Figure size 640x480 with 8 Axes>"
            ],
            "image/png": "[encoded data removed]"
          },
          "metadata": {}
        }
      ]
    },
    {
      "cell_type": "markdown",
      "source": [
        "**The Task:**\n",
        "\n",
        "\n",
        "1.   You are given 60000 tranining images of dimensions 28x28. The testing dataset size is 10000.\n",
        "2.   Each of the image shows a category of dress. There are 10 categories.\n",
        "3.   Your job is to flatten the images from 28x28 to 1x784. Then perform softmax regression on this dataset.\n",
        "4.   Since, there are k = 784 features and c = 10 classes, define the following weights:\n",
        "\n",
        ">> $w_{1,1}, w_{2,1}, ..... w_{784, 1}$\n",
        "\n",
        ">> $w_{1,2}, w_{2,2}, ..... w_{784, 2}$\n",
        "\n",
        ">> ..........\n",
        "\n",
        ">> $w_{1,10}, w_{2,10}, ..... w_{784, 10}$\n",
        "\n",
        "and for each of the classes define a bias:\n",
        "\n",
        ">> $b_{1}, b_{2}, ...., b_{10}$\n",
        "\n",
        "5.   One row for each category and each row has a weight $w_{j, c}$ for pixel number $j$ after flattening and for class number $c$.\n",
        "\n",
        "6.   The number of epochs will be 20. In each epoch, divide the training data into 600 batches each batch having 100 images. This is already done for you in the above code.\n",
        "\n",
        "7.   For each of the 600 batches, flatten the images. If you don't know how to access a particular batch of images and their corresponding label or if you don't know how to flatten the batches of images, use the following code:\n",
        "\n",
        ">>>> for i, (images, labels) in enumerate(train_loader):\n",
        "\n",
        ">>>>>>images = images.reshape(-1, 28*28)\n",
        "\n",
        "8.   If you want to access any particular image in a batch, just write images[i]. That will give you the i'th image from a batch.\n",
        "\n",
        "9.   Each image is now an array of 784 integers. For each of these images, calculate 10 scores for 10 categories:\n",
        "\n",
        ">>>> $s_{1} = w_{1, 1} x_{1} + w_{2, 1} x_{2} + .... + w_{784, 1} x_{784} + b_{1}$\n",
        "\n",
        ">>>> $s_{2} = w_{1, 2} x_{1} + w_{2, 2} x_{2} + .... + w_{784, 2} x_{784} + b_{2}$\n",
        "\n",
        ">>>> .........\n",
        "\n",
        ">>>> $s_{10} = w_{1, 10} x_{1} + w_{2, 10} x_{2} + .... + w_{784, 10} x_{784} + b_{10}$\n",
        "\n",
        "10.   For each batch of image, the weight update rule for each of the weights is given as follows:\n",
        "\n",
        ">>>> $w_{j, k} = w_{j, k} - \\lambda ( \\sum_{i = 1}^{m} (\\frac{e^{s_{k}}}{\\sum_{l = 1}^{10} e^{s_{l}}} - y_{k}) x_{j})$\n",
        "\n",
        "11.   The bias update rule is as follows:\n",
        "\n",
        ">>>> $b_{k} = b_{k} - \\lambda ( \\sum_{i = 1}^{m} (\\frac{e^{s_{k}}}{\\sum_{l = 1}^{10} e^{s_{l}}} - y_{k}))$\n",
        "\n",
        "where m = batch size\n",
        "\n",
        "12.   After doing the above for the specified number of iterations, make predictions for the images in the test set. Then calculate the accuracy in percentage and print it.\n",
        "\n",
        "13. During the testing phase, for each image, calculate 10 scores $s_{1}, s_{2}, ..., s_{10}$. One for each category. In order to make a prediction calculate the softmax probabilities for these scores. Then see in which category the softmax score comes the biggest. Choose that class as your prediction."
      ],
      "metadata": {
        "id": "-x7Mby_osGjO"
      }
    },
    {
      "cell_type": "code",
      "source": [
        "def softmax(x):\n",
        "  return torch.exp(x) / torch.exp(x).sum(axis=-1, keepdim=True)\n",
        "\n",
        "weights = torch.randn(784, 10, requires_grad=True)\n",
        "biases = torch.randn(10, requires_grad=True)\n",
        "\n",
        "learning_rate = 0.1\n",
        "epochs = 20\n",
        "batch_size = 100\n",
        "\n",
        "# loop for 20 epochs:\n",
        "for epoch in range(epochs):\n",
        "  for i, (images, labels) in enumerate(train_loader): # batch loop\n",
        "    images = images.reshape(-1, 28*28)  #contains 100 images per batch with dimension 1*784\n",
        "    scores = torch.matmul(images, weights) + biases\n",
        "    probabilities = softmax(scores)\n",
        "    loss = -torch.log(probabilities[range(images.shape[0]), labels]).mean()\n",
        "    loss.backward()\n",
        "    with torch.no_grad():\n",
        "      weights -= learning_rate * weights.grad\n",
        "      biases -= learning_rate * biases.grad\n",
        "      weights.grad.zero_()\n",
        "      biases.grad.zero_()\n",
        "\n",
        "correct = 0\n",
        "total = 0\n",
        "\n",
        "with torch.no_grad():\n",
        "  for images, labels in test_loader:\n",
        "    images = images.reshape(-1, 28*28)\n",
        "    scores = torch.matmul(images, weights) + biases\n",
        "    predictions = scores.argmax(dim=1)\n",
        "    correct += (predictions == labels).sum().item()\n",
        "    total += labels.size(0)\n",
        "\n",
        "accuracy = correct / total * 100\n",
        "print(f'Accuracy of the model on the test set: {accuracy:.2f}%')"
      ],
      "metadata": {
        "colab": {
          "base_uri": "https://localhost:8080/"
        },
        "id": "vBq2jK0z3AYu",
        "outputId": "a213882d-7270-4dfb-e8cb-b4c3581d064f"
      },
      "execution_count": null,
      "outputs": [
        {
          "output_type": "stream",
          "name": "stdout",
          "text": [
            "Accuracy of the model on the test set: 80.75%\n"
          ]
        }
      ]
    }
  ]
}